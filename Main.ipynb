{
 "cells": [
  {
   "cell_type": "markdown",
   "id": "b13605cf-5fdd-49c5-aa9a-fd38633bd324",
   "metadata": {},
   "source": [
    "Imports"
   ]
  },
  {
   "cell_type": "code",
   "execution_count": 307,
   "id": "bc5c076e-c5ab-4b78-920e-84a530131ba0",
   "metadata": {},
   "outputs": [],
   "source": [
    "import pandas as pd\n",
    "import tensorflow as tf\n",
    "import numpy as np\n",
    "from tensorflow.keras.models import Sequential\n",
    "from tensorflow.keras.layers import Dense"
   ]
  },
  {
   "cell_type": "markdown",
   "id": "5426d60e-ae99-48ba-a60b-158f1a3c4b43",
   "metadata": {},
   "source": [
    "Data set - loading and formatting to tensorflow"
   ]
  },
  {
   "cell_type": "code",
   "execution_count": 308,
   "id": "16a2fd6a-629a-47ea-b091-1ade53c81544",
   "metadata": {},
   "outputs": [
    {
     "name": "stdout",
     "output_type": "stream",
     "text": [
      "<class 'pandas.core.frame.DataFrame'>\n",
      "RangeIndex: 4269 entries, 0 to 4268\n",
      "Data columns (total 13 columns):\n",
      " #   Column                     Non-Null Count  Dtype \n",
      "---  ------                     --------------  ----- \n",
      " 0   loan_id                    4269 non-null   int64 \n",
      " 1    no_of_dependents          4269 non-null   int64 \n",
      " 2    education                 4269 non-null   object\n",
      " 3    self_employed             4269 non-null   object\n",
      " 4    income_annum              4269 non-null   int64 \n",
      " 5    loan_amount               4269 non-null   int64 \n",
      " 6    loan_term                 4269 non-null   int64 \n",
      " 7    cibil_score               4269 non-null   int64 \n",
      " 8    residential_assets_value  4269 non-null   int64 \n",
      " 9    commercial_assets_value   4269 non-null   int64 \n",
      " 10   luxury_assets_value       4269 non-null   int64 \n",
      " 11   bank_asset_value          4269 non-null   int64 \n",
      " 12   loan_status               4269 non-null   object\n",
      "dtypes: int64(10), object(3)\n",
      "memory usage: 433.7+ KB\n",
      "None\n"
     ]
    }
   ],
   "source": [
    "df = pd.read_csv(\"loan_approval_dataset.csv\")\n",
    "print(df.info())"
   ]
  },
  {
   "cell_type": "code",
   "execution_count": 309,
   "id": "7dbfcf4e-0ef2-4cf2-afce-385b850ff3f3",
   "metadata": {},
   "outputs": [
    {
     "name": "stdout",
     "output_type": "stream",
     "text": [
      ". No.\n",
      "   loan_id   no_of_dependents   education   self_employed   income_annum  \\\n",
      "0        1                  2           1               0        9600000   \n",
      "1        2                  0           0               1        4100000   \n",
      "2        3                  3           1               0        9100000   \n",
      "3        4                  3           1               0        8200000   \n",
      "4        5                  5           0               1        9800000   \n",
      "\n",
      "    loan_amount   loan_term   cibil_score   residential_assets_value  \\\n",
      "0      29900000          12           778                    2400000   \n",
      "1      12200000           8           417                    2700000   \n",
      "2      29700000          20           506                    7100000   \n",
      "3      30700000           8           467                   18200000   \n",
      "4      24200000          20           382                   12400000   \n",
      "\n",
      "    commercial_assets_value   luxury_assets_value   bank_asset_value  \\\n",
      "0                  17600000              22700000            8000000   \n",
      "1                   2200000               8800000            3300000   \n",
      "2                   4500000              33300000           12800000   \n",
      "3                   3300000              23300000            7900000   \n",
      "4                   8200000              29400000            5000000   \n",
      "\n",
      "    loan_status  \n",
      "0             1  \n",
      "1             0  \n",
      "2             0  \n",
      "3             0  \n",
      "4             0  \n"
     ]
    }
   ],
   "source": [
    "#mString values to binary 0/1\n",
    "print(\".\"+df[\" self_employed\"][0]+\".\")\n",
    "df[\" education\"].replace((\" Graduate\", \" Not Graduate\"), (1, 0), inplace = True)\n",
    "df[\" self_employed\"].replace((\" Yes\", \" No\"), (1, 0), inplace = True)\n",
    "df[\" loan_status\"].replace((\" Approved\", \" Rejected\"), (1, 0), inplace = True)\n",
    "print(df.head())"
   ]
  },
  {
   "cell_type": "code",
   "execution_count": 310,
   "id": "9df84f70-89e9-4efb-9b4c-3479c1f3ea0f",
   "metadata": {
    "scrolled": true
   },
   "outputs": [
    {
     "name": "stdout",
     "output_type": "stream",
     "text": [
      "[[       1        2        1        0  9600000 29900000       12      778\n",
      "   2400000 17600000 22700000  8000000]\n",
      " [       2        0        0        1  4100000 12200000        8      417\n",
      "   2700000  2200000  8800000  3300000]\n",
      " [       3        3        1        0  9100000 29700000       20      506\n",
      "   7100000  4500000 33300000 12800000]]\n",
      "\n",
      "[1 0 0]\n"
     ]
    }
   ],
   "source": [
    "y = np.array(df.pop(\" loan_status\"))\n",
    "X = np.array(df)\n",
    "print(X[:3], end = \"\\n\\n\")\n",
    "print(y[:3])"
   ]
  },
  {
   "cell_type": "code",
   "execution_count": 311,
   "id": "b9303730-b281-47d5-bd54-4e91f793e4c6",
   "metadata": {},
   "outputs": [
    {
     "name": "stdout",
     "output_type": "stream",
     "text": [
      "tf.Tensor(\n",
      "[[-1.731644   -0.2941017   0.9955592  -1.0072889   1.6179793   1.6330512\n",
      "   0.19261707  1.0327921  -0.7800577   2.8772893   0.8320282   0.9303036 ]\n",
      " [-1.7308326  -1.4735477  -1.0044609   0.9927641  -0.3417488  -0.32441428\n",
      "  -0.5080903  -1.0610521  -0.73392427 -0.6319209  -0.69499326 -0.5159369 ]\n",
      " [-1.7300211   0.2956213   0.9955592  -1.0072889   1.4398222   1.610933\n",
      "   1.5940318  -0.54484123 -0.05730043 -0.10781809  1.9965193   2.4073153 ]], shape=(3, 12), dtype=float32)\n"
     ]
    }
   ],
   "source": [
    "#normalization\n",
    "norm_l = tf.keras.layers.Normalization(axis=-1)\n",
    "norm_l.adapt(X)\n",
    "X = norm_l(X)\n",
    "print(X[:3])"
   ]
  },
  {
   "cell_type": "code",
   "execution_count": 312,
   "id": "9534f6f1-8223-475e-b1bd-125dd715e643",
   "metadata": {},
   "outputs": [
    {
     "name": "stdout",
     "output_type": "stream",
     "text": [
      "X_train shape : (3842, 12)\n",
      "X_test shape : (427, 12)\n",
      "y_train shape : (3842,)\n",
      "y_test shape : (427,)\n"
     ]
    }
   ],
   "source": [
    "ratio_test = 0.1\n",
    "ratio_train = 1 - ratio_test\n",
    "X_train, X_test, y_train, y_test = X[:int(len(X)*ratio_train)], X[int(len(X)*ratio_train):], y[:int(len(y)*ratio_train)], y[int(len(y)*ratio_train):]\n",
    "print(\"X_train shape :\", X_train.shape)\n",
    "print(\"X_test shape :\", X_test.shape)\n",
    "print(\"y_train shape :\", y_train.shape)\n",
    "print(\"y_test shape :\", y_test.shape)"
   ]
  },
  {
   "cell_type": "markdown",
   "id": "fad84b8a-8fa9-4538-90b9-2b161628c0d0",
   "metadata": {},
   "source": [
    "Tensorflow"
   ]
  },
  {
   "cell_type": "code",
   "execution_count": 313,
   "id": "a6bec94b-e848-43f7-8ae0-a28f1ff947e4",
   "metadata": {},
   "outputs": [
    {
     "name": "stdout",
     "output_type": "stream",
     "text": [
      "Model: \"sequential_24\"\n",
      "_________________________________________________________________\n",
      " Layer (type)                Output Shape              Param #   \n",
      "=================================================================\n",
      " dense_85 (Dense)            (None, 20)                260       \n",
      "                                                                 \n",
      " dense_86 (Dense)            (None, 12)                252       \n",
      "                                                                 \n",
      " dense_87 (Dense)            (None, 6)                 78        \n",
      "                                                                 \n",
      " dense_88 (Dense)            (None, 1)                 7         \n",
      "                                                                 \n",
      "=================================================================\n",
      "Total params: 597 (2.33 KB)\n",
      "Trainable params: 597 (2.33 KB)\n",
      "Non-trainable params: 0 (0.00 Byte)\n",
      "_________________________________________________________________\n"
     ]
    }
   ],
   "source": [
    "model = Sequential([\n",
    "    tf.keras.Input(shape=(12,)),\n",
    "    Dense(20, activation = \"sigmoid\"),\n",
    "    Dense(12, activation = \"sigmoid\"),\n",
    "    Dense(6, activation = \"sigmoid\"),\n",
    "    Dense(1, activation = \"sigmoid\")\n",
    "])\n",
    "model.summary()"
   ]
  },
  {
   "cell_type": "code",
   "execution_count": 314,
   "id": "a340b763-a7a9-43b7-87cb-3a867bbb70e6",
   "metadata": {},
   "outputs": [
    {
     "name": "stdout",
     "output_type": "stream",
     "text": [
      "Epoch 1/100\n",
      "121/121 [==============================] - 1s 766us/step - loss: 0.5876 - val_loss: 0.2894\n",
      "Epoch 2/100\n",
      "121/121 [==============================] - 0s 404us/step - loss: 0.2209 - val_loss: 0.1725\n",
      "Epoch 3/100\n",
      "121/121 [==============================] - 0s 384us/step - loss: 0.1908 - val_loss: 0.1603\n",
      "Epoch 4/100\n",
      "121/121 [==============================] - 0s 388us/step - loss: 0.1823 - val_loss: 0.1578\n",
      "Epoch 5/100\n",
      "121/121 [==============================] - 0s 373us/step - loss: 0.1791 - val_loss: 0.1585\n",
      "Epoch 6/100\n",
      "121/121 [==============================] - 0s 395us/step - loss: 0.1761 - val_loss: 0.1622\n",
      "Epoch 7/100\n",
      "121/121 [==============================] - 0s 385us/step - loss: 0.1753 - val_loss: 0.1489\n",
      "Epoch 8/100\n",
      "121/121 [==============================] - 0s 367us/step - loss: 0.1768 - val_loss: 0.1491\n",
      "Epoch 9/100\n",
      "121/121 [==============================] - 0s 367us/step - loss: 0.1752 - val_loss: 0.1538\n",
      "Epoch 10/100\n",
      "121/121 [==============================] - 0s 372us/step - loss: 0.1719 - val_loss: 0.1530\n",
      "Epoch 11/100\n",
      "121/121 [==============================] - 0s 397us/step - loss: 0.1706 - val_loss: 0.1478\n",
      "Epoch 12/100\n",
      "121/121 [==============================] - 0s 381us/step - loss: 0.1665 - val_loss: 0.1549\n",
      "Epoch 13/100\n",
      "121/121 [==============================] - 0s 402us/step - loss: 0.1626 - val_loss: 0.1363\n",
      "Epoch 14/100\n",
      "121/121 [==============================] - 0s 392us/step - loss: 0.1431 - val_loss: 0.1223\n",
      "Epoch 15/100\n",
      "121/121 [==============================] - 0s 379us/step - loss: 0.1234 - val_loss: 0.1131\n",
      "Epoch 16/100\n",
      "121/121 [==============================] - 0s 379us/step - loss: 0.1077 - val_loss: 0.0872\n",
      "Epoch 17/100\n",
      "121/121 [==============================] - 0s 377us/step - loss: 0.1020 - val_loss: 0.0685\n",
      "Epoch 18/100\n",
      "121/121 [==============================] - 0s 389us/step - loss: 0.0939 - val_loss: 0.0694\n",
      "Epoch 19/100\n",
      "121/121 [==============================] - 0s 656us/step - loss: 0.0868 - val_loss: 0.0622\n",
      "Epoch 20/100\n",
      "121/121 [==============================] - 0s 557us/step - loss: 0.0817 - val_loss: 0.0723\n",
      "Epoch 21/100\n",
      "121/121 [==============================] - 0s 375us/step - loss: 0.0815 - val_loss: 0.0811\n",
      "Epoch 22/100\n",
      "121/121 [==============================] - 0s 364us/step - loss: 0.0800 - val_loss: 0.0620\n",
      "Epoch 23/100\n",
      "121/121 [==============================] - 0s 380us/step - loss: 0.0769 - val_loss: 0.0576\n",
      "Epoch 24/100\n",
      "121/121 [==============================] - 0s 383us/step - loss: 0.0743 - val_loss: 0.0660\n",
      "Epoch 25/100\n",
      "121/121 [==============================] - 0s 364us/step - loss: 0.0731 - val_loss: 0.0627\n",
      "Epoch 26/100\n",
      "121/121 [==============================] - 0s 367us/step - loss: 0.0763 - val_loss: 0.0711\n",
      "Epoch 27/100\n",
      "121/121 [==============================] - 0s 369us/step - loss: 0.0748 - val_loss: 0.0883\n",
      "Epoch 28/100\n",
      "121/121 [==============================] - 0s 380us/step - loss: 0.0717 - val_loss: 0.0591\n",
      "Epoch 29/100\n",
      "121/121 [==============================] - 0s 378us/step - loss: 0.0704 - val_loss: 0.0561\n",
      "Epoch 30/100\n",
      "121/121 [==============================] - 0s 379us/step - loss: 0.0706 - val_loss: 0.0763\n",
      "Epoch 31/100\n",
      "121/121 [==============================] - 0s 382us/step - loss: 0.0692 - val_loss: 0.0587\n",
      "Epoch 32/100\n",
      "121/121 [==============================] - 0s 371us/step - loss: 0.0688 - val_loss: 0.0663\n",
      "Epoch 33/100\n",
      "121/121 [==============================] - 0s 363us/step - loss: 0.0639 - val_loss: 0.0667\n",
      "Epoch 34/100\n",
      "121/121 [==============================] - 0s 375us/step - loss: 0.0631 - val_loss: 0.0559\n",
      "Epoch 35/100\n",
      "121/121 [==============================] - 0s 382us/step - loss: 0.0630 - val_loss: 0.0557\n",
      "Epoch 36/100\n",
      "121/121 [==============================] - 0s 365us/step - loss: 0.0629 - val_loss: 0.0546\n",
      "Epoch 37/100\n",
      "121/121 [==============================] - 0s 369us/step - loss: 0.0639 - val_loss: 0.0528\n",
      "Epoch 38/100\n",
      "121/121 [==============================] - 0s 361us/step - loss: 0.0613 - val_loss: 0.0850\n",
      "Epoch 39/100\n",
      "121/121 [==============================] - 0s 428us/step - loss: 0.0694 - val_loss: 0.0493\n",
      "Epoch 40/100\n",
      "121/121 [==============================] - 0s 784us/step - loss: 0.0631 - val_loss: 0.0675\n",
      "Epoch 41/100\n",
      "121/121 [==============================] - 0s 372us/step - loss: 0.0641 - val_loss: 0.0538\n",
      "Epoch 42/100\n",
      "121/121 [==============================] - 0s 379us/step - loss: 0.0622 - val_loss: 0.0671\n",
      "Epoch 43/100\n",
      "121/121 [==============================] - 0s 377us/step - loss: 0.0671 - val_loss: 0.0528\n",
      "Epoch 44/100\n",
      "121/121 [==============================] - 0s 367us/step - loss: 0.0601 - val_loss: 0.0585\n",
      "Epoch 45/100\n",
      "121/121 [==============================] - 0s 373us/step - loss: 0.0618 - val_loss: 0.0495\n",
      "Epoch 46/100\n",
      "121/121 [==============================] - 0s 372us/step - loss: 0.0588 - val_loss: 0.0519\n",
      "Epoch 47/100\n",
      "121/121 [==============================] - 0s 364us/step - loss: 0.0624 - val_loss: 0.0680\n",
      "Epoch 48/100\n",
      "121/121 [==============================] - 0s 353us/step - loss: 0.0582 - val_loss: 0.0605\n",
      "Epoch 49/100\n",
      "121/121 [==============================] - 0s 362us/step - loss: 0.0605 - val_loss: 0.0695\n",
      "Epoch 50/100\n",
      "121/121 [==============================] - 0s 357us/step - loss: 0.0583 - val_loss: 0.0572\n",
      "Epoch 51/100\n",
      "121/121 [==============================] - 0s 358us/step - loss: 0.0569 - val_loss: 0.0442\n",
      "Epoch 52/100\n",
      "121/121 [==============================] - 0s 371us/step - loss: 0.0582 - val_loss: 0.0547\n",
      "Epoch 53/100\n",
      "121/121 [==============================] - 0s 365us/step - loss: 0.0543 - val_loss: 0.0417\n",
      "Epoch 54/100\n",
      "121/121 [==============================] - 0s 389us/step - loss: 0.0580 - val_loss: 0.0483\n",
      "Epoch 55/100\n",
      "121/121 [==============================] - 0s 375us/step - loss: 0.0570 - val_loss: 0.0594\n",
      "Epoch 56/100\n",
      "121/121 [==============================] - 0s 353us/step - loss: 0.0578 - val_loss: 0.0465\n",
      "Epoch 57/100\n",
      "121/121 [==============================] - 0s 365us/step - loss: 0.0542 - val_loss: 0.0526\n",
      "Epoch 58/100\n",
      "121/121 [==============================] - 0s 358us/step - loss: 0.0538 - val_loss: 0.0532\n",
      "Epoch 59/100\n",
      "121/121 [==============================] - 0s 365us/step - loss: 0.0552 - val_loss: 0.0676\n",
      "Epoch 60/100\n",
      "121/121 [==============================] - 0s 362us/step - loss: 0.0525 - val_loss: 0.0628\n",
      "Epoch 61/100\n",
      "121/121 [==============================] - 0s 357us/step - loss: 0.0575 - val_loss: 0.0599\n",
      "Epoch 62/100\n",
      "121/121 [==============================] - 0s 358us/step - loss: 0.0521 - val_loss: 0.0503\n",
      "Epoch 63/100\n",
      "121/121 [==============================] - 0s 349us/step - loss: 0.0562 - val_loss: 0.0611\n",
      "Epoch 64/100\n",
      "121/121 [==============================] - 0s 358us/step - loss: 0.0499 - val_loss: 0.0473\n",
      "Epoch 65/100\n",
      "121/121 [==============================] - 0s 357us/step - loss: 0.0490 - val_loss: 0.0430\n",
      "Epoch 66/100\n",
      "121/121 [==============================] - 0s 355us/step - loss: 0.0582 - val_loss: 0.0571\n",
      "Epoch 67/100\n",
      "121/121 [==============================] - 0s 355us/step - loss: 0.0575 - val_loss: 0.0522\n",
      "Epoch 68/100\n",
      "121/121 [==============================] - 0s 356us/step - loss: 0.0595 - val_loss: 0.0528\n",
      "Epoch 69/100\n",
      "121/121 [==============================] - 0s 357us/step - loss: 0.0513 - val_loss: 0.0440\n",
      "Epoch 70/100\n",
      "121/121 [==============================] - 0s 353us/step - loss: 0.0467 - val_loss: 0.0465\n",
      "Epoch 71/100\n",
      "121/121 [==============================] - 0s 365us/step - loss: 0.0504 - val_loss: 0.0464\n",
      "Epoch 72/100\n",
      "121/121 [==============================] - 0s 371us/step - loss: 0.0519 - val_loss: 0.0575\n",
      "Epoch 73/100\n",
      "121/121 [==============================] - 0s 376us/step - loss: 0.0582 - val_loss: 0.0598\n",
      "Epoch 74/100\n",
      "121/121 [==============================] - 0s 361us/step - loss: 0.0499 - val_loss: 0.0464\n",
      "Epoch 75/100\n",
      "121/121 [==============================] - 0s 365us/step - loss: 0.0496 - val_loss: 0.0564\n",
      "Epoch 76/100\n",
      "121/121 [==============================] - 0s 372us/step - loss: 0.0481 - val_loss: 0.0597\n",
      "Epoch 77/100\n",
      "121/121 [==============================] - 0s 379us/step - loss: 0.0462 - val_loss: 0.0501\n",
      "Epoch 78/100\n",
      "121/121 [==============================] - 0s 380us/step - loss: 0.0450 - val_loss: 0.0478\n",
      "Epoch 79/100\n",
      "121/121 [==============================] - 0s 371us/step - loss: 0.0447 - val_loss: 0.0537\n",
      "Epoch 80/100\n",
      "121/121 [==============================] - 0s 360us/step - loss: 0.0445 - val_loss: 0.0541\n",
      "Epoch 81/100\n",
      "121/121 [==============================] - 0s 360us/step - loss: 0.0445 - val_loss: 0.0523\n",
      "Epoch 82/100\n",
      "121/121 [==============================] - 0s 371us/step - loss: 0.0435 - val_loss: 0.0509\n",
      "Epoch 83/100\n",
      "121/121 [==============================] - 0s 366us/step - loss: 0.0432 - val_loss: 0.0615\n",
      "Epoch 84/100\n",
      "121/121 [==============================] - 0s 358us/step - loss: 0.0468 - val_loss: 0.0703\n",
      "Epoch 85/100\n",
      "121/121 [==============================] - 0s 355us/step - loss: 0.0603 - val_loss: 0.0701\n",
      "Epoch 86/100\n",
      "121/121 [==============================] - 0s 369us/step - loss: 0.0485 - val_loss: 0.0523\n",
      "Epoch 87/100\n",
      "121/121 [==============================] - 0s 362us/step - loss: 0.0481 - val_loss: 0.0473\n",
      "Epoch 88/100\n",
      "121/121 [==============================] - 0s 389us/step - loss: 0.0447 - val_loss: 0.0590\n",
      "Epoch 89/100\n",
      "121/121 [==============================] - 0s 386us/step - loss: 0.0478 - val_loss: 0.0477\n",
      "Epoch 90/100\n",
      "121/121 [==============================] - 0s 370us/step - loss: 0.0478 - val_loss: 0.0470\n",
      "Epoch 91/100\n",
      "121/121 [==============================] - 0s 354us/step - loss: 0.0410 - val_loss: 0.0480\n",
      "Epoch 92/100\n",
      "121/121 [==============================] - 0s 358us/step - loss: 0.0437 - val_loss: 0.0418\n",
      "Epoch 93/100\n",
      "121/121 [==============================] - 0s 358us/step - loss: 0.0425 - val_loss: 0.0449\n",
      "Epoch 94/100\n",
      "121/121 [==============================] - 0s 370us/step - loss: 0.0418 - val_loss: 0.0486\n",
      "Epoch 95/100\n",
      "121/121 [==============================] - 0s 381us/step - loss: 0.0511 - val_loss: 0.0479\n",
      "Epoch 96/100\n",
      "121/121 [==============================] - 0s 370us/step - loss: 0.0410 - val_loss: 0.0511\n",
      "Epoch 97/100\n",
      "121/121 [==============================] - 0s 377us/step - loss: 0.0443 - val_loss: 0.0525\n",
      "Epoch 98/100\n",
      "121/121 [==============================] - 0s 366us/step - loss: 0.0448 - val_loss: 0.0483\n",
      "Epoch 99/100\n",
      "121/121 [==============================] - 0s 371us/step - loss: 0.0383 - val_loss: 0.0485\n",
      "Epoch 100/100\n",
      "121/121 [==============================] - 0s 365us/step - loss: 0.0381 - val_loss: 0.0486\n"
     ]
    }
   ],
   "source": [
    "model.compile(\n",
    "    loss = tf.keras.losses.BinaryCrossentropy(),\n",
    "    optimizer = tf.keras.optimizers.legacy.Adam(learning_rate=0.008),\n",
    ")\n",
    "\n",
    "history = model.fit(X_train, y_train, validation_data = (X_test, y_test), epochs = 100)"
   ]
  },
  {
   "cell_type": "code",
   "execution_count": 315,
   "id": "2eee4de5-35be-4636-8c42-1f8dd36455e7",
   "metadata": {},
   "outputs": [
    {
     "data": {
      "image/png": "[encoded data removed]",
      "text/plain": [
       "<Figure size 640x480 with 1 Axes>"
      ]
     },
     "metadata": {},
     "output_type": "display_data"
    }
   ],
   "source": [
    "import matplotlib.pyplot as plt\n",
    "plt.plot(history.history['loss'])\n",
    "plt.plot(history.history['val_loss'])\n",
    "plt.title('model loss')\n",
    "plt.ylabel('loss')\n",
    "plt.xlabel('epoch')\n",
    "plt.legend(['train', 'val'], loc='upper left')\n",
    "plt.show()"
   ]
  },
  {
   "cell_type": "code",
   "execution_count": null,
   "id": "4adf3554-f1b3-4886-b5a6-26a0b86319c4",
   "metadata": {},
   "outputs": [],
   "source": []
  },
  {
   "cell_type": "code",
   "execution_count": null,
   "id": "db1b092a-6553-4aff-aae4-0534c9a0534a",
   "metadata": {},
   "outputs": [],
   "source": []
  }
 ],
 "metadata": {
  "kernelspec": {
   "display_name": "Python 3 (ipykernel)",
   "language": "python",
   "name": "python3"
  },
  "language_info": {
   "codemirror_mode": {
    "name": "ipython",
    "version": 3
   },
   "file_extension": ".py",
   "mimetype": "text/x-python",
   "name": "python",
   "nbconvert_exporter": "python",
   "pygments_lexer": "ipython3",
   "version": "3.11.2"
  }
 },
 "nbformat": 4,
 "nbformat_minor": 5
}
